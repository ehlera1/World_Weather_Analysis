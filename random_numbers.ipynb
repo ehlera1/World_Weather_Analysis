{
 "cells": [
  {
   "cell_type": "code",
   "execution_count": 1,
   "id": "6f4b93ef",
   "metadata": {},
   "outputs": [],
   "source": [
    "# Import the random module.\n",
    "import random"
   ]
  },
  {
   "cell_type": "code",
   "execution_count": 2,
   "id": "870fb745",
   "metadata": {},
   "outputs": [
    {
     "data": {
      "text/plain": [
       "-71"
      ]
     },
     "execution_count": 2,
     "metadata": {},
     "output_type": "execute_result"
    }
   ],
   "source": [
    "random.randint(-90,90)"
   ]
  },
  {
   "cell_type": "code",
   "execution_count": 3,
   "id": "7f559bf3",
   "metadata": {},
   "outputs": [
    {
     "data": {
      "text/plain": [
       "0.3223145433927008"
      ]
     },
     "execution_count": 3,
     "metadata": {},
     "output_type": "execute_result"
    }
   ],
   "source": [
    "random.random()"
   ]
  },
  {
   "cell_type": "code",
   "execution_count": 6,
   "id": "6e109d86",
   "metadata": {},
   "outputs": [
    {
     "data": {
      "text/plain": [
       "89.90324884429526"
      ]
     },
     "execution_count": 6,
     "metadata": {},
     "output_type": "execute_result"
    }
   ],
   "source": [
    "random_number = random.randint(-90,89) + random.random()\n",
    "random_number"
   ]
  },
  {
   "cell_type": "code",
   "execution_count": 7,
   "id": "dfd91f58",
   "metadata": {},
   "outputs": [],
   "source": [
    "# x = 1\n",
    "# latitudes = []\n",
    "# while x < 11:\n",
    "#     random_lat = random.randint(-90, 89) + random.random()\n",
    "#     latitudes.append(random_lat)\n",
    "#     x += 1"
   ]
  },
  {
   "cell_type": "code",
   "execution_count": 8,
   "id": "3dc3d823",
   "metadata": {},
   "outputs": [
    {
     "data": {
      "text/plain": [
       "[-49.31314484631451,\n",
       " 84.7591701259894,\n",
       " -78.44706051599907,\n",
       " -6.671360666720826,\n",
       " 88.41709618941978,\n",
       " 53.298737286213296,\n",
       " -25.09407856190298,\n",
       " 23.463573798968245,\n",
       " -8.627790502698675,\n",
       " 8.778021162669381]"
      ]
     },
     "execution_count": 8,
     "metadata": {},
     "output_type": "execute_result"
    }
   ],
   "source": [
    "# latitudes"
   ]
  },
  {
   "cell_type": "code",
   "execution_count": 9,
   "id": "1d99ec0e",
   "metadata": {},
   "outputs": [
    {
     "data": {
      "text/plain": [
       "-77"
      ]
     },
     "execution_count": 9,
     "metadata": {},
     "output_type": "execute_result"
    }
   ],
   "source": [
    "random.randrange(-90, 90, step=1)"
   ]
  },
  {
   "cell_type": "code",
   "execution_count": 10,
   "id": "13063f36",
   "metadata": {},
   "outputs": [
    {
     "data": {
      "text/plain": [
       "-54"
      ]
     },
     "execution_count": 10,
     "metadata": {},
     "output_type": "execute_result"
    }
   ],
   "source": [
    "random.randrange(-90, 90, step=3)"
   ]
  },
  {
   "cell_type": "code",
   "execution_count": 11,
   "id": "d527884a",
   "metadata": {},
   "outputs": [
    {
     "data": {
      "text/plain": [
       "-41.01479052756909"
      ]
     },
     "execution_count": 11,
     "metadata": {},
     "output_type": "execute_result"
    }
   ],
   "source": [
    "random.uniform(-90, 90)"
   ]
  },
  {
   "cell_type": "code",
   "execution_count": 12,
   "id": "d7ac06c3",
   "metadata": {},
   "outputs": [],
   "source": [
    "# Import the NumPy module.\n",
    "import numpy as np"
   ]
  },
  {
   "cell_type": "code",
   "execution_count": 13,
   "id": "be005e8b",
   "metadata": {},
   "outputs": [
    {
     "data": {
      "text/plain": [
       "-24.613402481741602"
      ]
     },
     "execution_count": 13,
     "metadata": {},
     "output_type": "execute_result"
    }
   ],
   "source": [
    "np.random.uniform(-90.000, 90.000)"
   ]
  },
  {
   "cell_type": "code",
   "execution_count": 14,
   "id": "8a985389",
   "metadata": {},
   "outputs": [
    {
     "data": {
      "text/plain": [
       "array([ 36.2500204 ,  41.56785509,  42.4787486 ,   0.70398756,\n",
       "        81.16116888, -79.96774518, -39.41601093, -79.20416388,\n",
       "        26.94993985,  13.33120044, -66.73385603,  43.75209451,\n",
       "       -47.09861157, -22.38035882, -69.37111012,   7.41801784,\n",
       "        33.34378983, -83.42912331, -37.05779419, -32.25240749,\n",
       "        72.36286854,  40.61164387, -18.75406643,  84.90684408,\n",
       "       -38.89513554, -79.09551321,  79.38852954, -75.87138391,\n",
       "       -40.62311369,   8.82153478, -14.13636994,  40.30960798,\n",
       "       -87.47608675, -58.4324611 , -22.25809966,  55.49164694,\n",
       "        77.62012074,  45.48357013, -74.08096225,  57.25525435,\n",
       "       -65.55121026,  78.07774467,  71.79818088,  -8.27763349,\n",
       "       -55.35057284,  -8.31674925,  84.87272505,  56.52872941,\n",
       "        62.66106675,  87.4071017 ])"
      ]
     },
     "execution_count": 14,
     "metadata": {},
     "output_type": "execute_result"
    }
   ],
   "source": [
    "np.random.uniform(-90.000, 90.000, size=50)"
   ]
  },
  {
   "cell_type": "code",
   "execution_count": 15,
   "id": "a7d9c1c2",
   "metadata": {},
   "outputs": [],
   "source": [
    "# Import timeit.\n",
    "import timeit"
   ]
  },
  {
   "cell_type": "code",
   "execution_count": 17,
   "id": "33aaad62",
   "metadata": {},
   "outputs": [
    {
     "name": "stdout",
     "output_type": "stream",
     "text": [
      "13.5 µs ± 401 ns per loop (mean ± std. dev. of 7 runs, 100000 loops each)\n"
     ]
    }
   ],
   "source": [
    "%timeit np.random.uniform(-90.000, 90.000, size=1500)"
   ]
  },
  {
   "cell_type": "code",
   "execution_count": 18,
   "id": "7e33209c",
   "metadata": {},
   "outputs": [
    {
     "name": "stdout",
     "output_type": "stream",
     "text": [
      "1.55 ms ± 41.4 µs per loop (mean ± std. dev. of 7 runs, 1000 loops each)\n"
     ]
    }
   ],
   "source": [
    "def latitudes(size):\n",
    "    latitudes = []\n",
    "    x = 0\n",
    "    while x < (size):\n",
    "        random_lat = random.randint(-90, 90) + random.random()\n",
    "        latitudes.append(random_lat)\n",
    "        x += 1\n",
    "    return latitudes\n",
    "# Call the function with 1500.\n",
    "%timeit latitudes(1500)"
   ]
  },
  {
   "cell_type": "code",
   "execution_count": 20,
   "id": "163ef064",
   "metadata": {},
   "outputs": [],
   "source": [
    "# latitudes = random.randint (-90,90) + random.random()\n",
    "# %timeit latitudes(1500)\n"
   ]
  },
  {
   "cell_type": "code",
   "execution_count": null,
   "id": "f07dab3e",
   "metadata": {},
   "outputs": [],
   "source": []
  }
 ],
 "metadata": {
  "kernelspec": {
   "display_name": "PythonData",
   "language": "python",
   "name": "pythondata"
  },
  "language_info": {
   "codemirror_mode": {
    "name": "ipython",
    "version": 3
   },
   "file_extension": ".py",
   "mimetype": "text/x-python",
   "name": "python",
   "nbconvert_exporter": "python",
   "pygments_lexer": "ipython3",
   "version": "3.7.10"
  }
 },
 "nbformat": 4,
 "nbformat_minor": 5
}
